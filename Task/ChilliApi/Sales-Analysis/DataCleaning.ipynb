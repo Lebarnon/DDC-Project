{
 "cells": [
  {
   "cell_type": "code",
   "execution_count": null,
   "id": "8c399772",
   "metadata": {},
   "outputs": [],
   "source": [
    "# Basic Libraries\n",
    "import numpy as np\n",
    "import pandas as pd\n",
    "import seaborn as sb\n",
    "import matplotlib.pyplot as plt # we only need pyplot\n",
    "sb.set() # set the default Seaborn style for graphics"
   ]
  },
  {
   "cell_type": "code",
   "execution_count": null,
   "id": "11ac02b6",
   "metadata": {},
   "outputs": [],
   "source": [
    "# To print full list\n",
    "pd.set_option('display.max_rows', None)\n",
    "pd.set_option('display.max_columns', None)\n",
    "pd.set_option('display.width', None)\n",
    "pd.set_option('display.max_colwidth', None)"
   ]
  },
  {
   "cell_type": "code",
   "execution_count": null,
   "id": "698ad95a",
   "metadata": {},
   "outputs": [],
   "source": [
    "%%time\n",
    "\n",
    "import pymssql\n",
    "import os\n",
    "from dotenv import load_dotenv\n",
    "\n",
    "load_dotenv()\n",
    "\n",
    "server = os.getenv('SERVER')\n",
    "user = os.getenv('USER')\n",
    "password = os.getenv('PASSWORD')\n",
    "\n",
    "conn = pymssql.connect(server, user, password, \"chillipadiad_db\")\n",
    "cursor = conn.cursor(as_dict=True)\n",
    "\n",
    "cursor.execute('SELECT * FROM [Order]')\n",
    "orderData = pd.DataFrame(cursor)\n",
    "orderData.columns=[ x[0] for x in cursor.description]\n",
    "\n",
    "cursor.execute('SELECT * FROM Customer')\n",
    "customerData = pd.DataFrame(cursor)\n",
    "customerData.columns=[ x[0] for x in cursor.description]\n",
    "\n",
    "conn.close()"
   ]
  },
  {
   "cell_type": "code",
   "execution_count": null,
   "id": "a0921610",
   "metadata": {},
   "outputs": [],
   "source": [
    "orderData.head()"
   ]
  },
  {
   "cell_type": "markdown",
   "id": "fd21e389",
   "metadata": {},
   "source": [
    "# Removing cols with major null vals"
   ]
  },
  {
   "cell_type": "code",
   "execution_count": null,
   "id": "9b837153",
   "metadata": {},
   "outputs": [],
   "source": [
    "def naValsInPercentage(data):\n",
    "    percent_missing = data.isnull().sum() * 100 / len(data)\n",
    "    return pd.DataFrame({'column_name': data.columns,\n",
    "                         'percent_missing': percent_missing})\n",
    "missingVals = naValsInPercentage(orderData)\n",
    "missingVals"
   ]
  },
  {
   "cell_type": "code",
   "execution_count": null,
   "id": "3a400175",
   "metadata": {},
   "outputs": [],
   "source": [
    "# remove columns with more than 30% missing values\n",
    "colsToDrop = missingVals[missingVals['percent_missing']>30]\n",
    "colsToDrop"
   ]
  },
  {
   "cell_type": "markdown",
   "id": "d8e0daea",
   "metadata": {},
   "source": [
    "### Some columns are still important to analyse\n",
    "DateOfBirth, AddOnsPrice"
   ]
  },
  {
   "cell_type": "code",
   "execution_count": null,
   "id": "eb98b12a",
   "metadata": {},
   "outputs": [],
   "source": [
    "finalColsToDrop = colsToDrop.drop(['AddOnsPrice'])"
   ]
  },
  {
   "cell_type": "code",
   "execution_count": null,
   "id": "0743b95d",
   "metadata": {},
   "outputs": [],
   "source": [
    "# CD = Cleaned Data\n",
    "cdPart1 = orderData.drop(columns = finalColsToDrop['column_name'])\n",
    "\n",
    "## Drop Rows without main identifier\n",
    "# We are using Menu names as the main identifier\n",
    "rowsToDrop = cdPart1[cdPart1[\"MenuName\"].isna()]\n",
    "cdPart1 = cdPart1.drop(index = rowsToDrop.index)\n",
    "\n",
    "cdPart1.info()"
   ]
  },
  {
   "cell_type": "markdown",
   "id": "8d14cfeb",
   "metadata": {},
   "source": [
    "### Dropping more insignificant columns"
   ]
  },
  {
   "cell_type": "code",
   "execution_count": null,
   "id": "843ed008",
   "metadata": {
    "scrolled": true
   },
   "outputs": [],
   "source": [
    "# Postal code sufficient for location, hence drop other location related data\n",
    "moreColsToDrop = ['Block', 'Street', 'Building']\n",
    "# invoice id?\n",
    "moreColsToDrop.insert(0,'InvoiceId')\n",
    "# with driver id, driver name unnecessary\n",
    "moreColsToDrop.insert(0,'DriverName')\n",
    "# OrderSource all HQ so quite useless\n",
    "moreColsToDrop.insert(0,'OrderSource')\n",
    "\n",
    "# finally remove those cols\n",
    "cdPart2 = cdPart1.drop(columns = moreColsToDrop)\n",
    "len(cdPart2.columns)"
   ]
  },
  {
   "cell_type": "markdown",
   "id": "6f394fde",
   "metadata": {},
   "source": [
    "# Add in customer DOB"
   ]
  },
  {
   "cell_type": "code",
   "execution_count": null,
   "id": "82c72b30",
   "metadata": {},
   "outputs": [],
   "source": [
    "customerData.info()"
   ]
  },
  {
   "cell_type": "code",
   "execution_count": null,
   "id": "802a2e80",
   "metadata": {},
   "outputs": [],
   "source": [
    "colsToKeep = ['CustomerId', 'Company', 'DateOfBirth']\n",
    "strippedCustomerData = pd.DataFrame(customerData[colsToKeep])\n",
    "strippedCustomerData.head()"
   ]
  },
  {
   "cell_type": "code",
   "execution_count": null,
   "id": "b1c852f7",
   "metadata": {},
   "outputs": [],
   "source": [
    "mergedData = pd.merge(cdPart2, strippedCustomerData, on='CustomerId', how='left')"
   ]
  },
  {
   "cell_type": "code",
   "execution_count": null,
   "id": "8685f4fa",
   "metadata": {},
   "outputs": [],
   "source": [
    "mergedData.info()"
   ]
  },
  {
   "cell_type": "markdown",
   "id": "5e4854d2",
   "metadata": {},
   "source": [
    "### Fill Null values"
   ]
  },
  {
   "cell_type": "code",
   "execution_count": null,
   "id": "31f173d0",
   "metadata": {},
   "outputs": [],
   "source": [
    "missingVal = naValsInPercentage(mergedData)\n",
    "missingVal"
   ]
  },
  {
   "cell_type": "code",
   "execution_count": null,
   "id": "6fd930f5",
   "metadata": {},
   "outputs": [],
   "source": [
    "# DateOfBirth\n",
    "\n",
    "from datetime import datetime, date\n",
    "cdPart3 = mergedData.copy()\n",
    "\n",
    "cdPart3['DateOfBirth'] = pd.to_datetime(cdPart3['DateOfBirth'], format='%d/%m/%Y %H:%M')\n",
    "\n",
    "cdPart3['DateOfBirth(Date)'] = cdPart3['DateOfBirth'].dt.strftime('%d/%m/%Y')\n",
    "cdPart3['DateOfBirth(Date)'] = cdPart3['DateOfBirth'].replace(np.nan, date.today().strftime(\"%d/%m/%Y\")).astype(str)\n",
    "\n",
    "cdPart3= cdPart3.drop(columns=['DateOfBirth'])"
   ]
  },
  {
   "cell_type": "code",
   "execution_count": null,
   "id": "5f41a44a",
   "metadata": {},
   "outputs": [],
   "source": [
    "# fill the rest\n",
    "\n",
    "cdPart3[['AddOnsPrice','DeliveryRateInternal']] = cdPart3[['AddOnsPrice','DeliveryRateInternal']].fillna(value=0)\n",
    "\n",
    "negOne = ['PackedTime','StaffPrice','StaffNo','DeliveryRate','DriverId']\n",
    "cdPart3[negOne] = cdPart3[negOne].fillna(value=-1)\n",
    "\n",
    "none = ['Company','DeliveryNote','ContactPerson','EventType','FunctionDate']\n",
    "cdPart3[none] = cdPart3[none].fillna(value='none')\n",
    "\n",
    "cdPart3[['PostalCode','ContactNumber']] = cdPart3[['PostalCode','ContactNumber']].fillna(value='0')\n",
    "\n"
   ]
  },
  {
   "cell_type": "code",
   "execution_count": null,
   "id": "ca93a321",
   "metadata": {},
   "outputs": [],
   "source": [
    "cdPart3.sample(10)"
   ]
  },
  {
   "cell_type": "code",
   "execution_count": null,
   "id": "121a0ea9",
   "metadata": {},
   "outputs": [],
   "source": [
    "missingVal = naValsInPercentage(cdPart3)\n",
    "missingVal"
   ]
  },
  {
   "cell_type": "code",
   "execution_count": null,
   "id": "b6ca38d9",
   "metadata": {},
   "outputs": [],
   "source": [
    "cdPart3.to_csv('data/chillipadi_cleandata.csv', index=False, date_format='%Y-%m-%d %H:%M:%S')"
   ]
  },
  {
   "cell_type": "code",
   "execution_count": null,
   "id": "5d77e784",
   "metadata": {},
   "outputs": [],
   "source": []
  }
 ],
 "metadata": {
  "kernelspec": {
   "display_name": "Python 3 (ipykernel)",
   "language": "python",
   "name": "python3"
  },
  "language_info": {
   "codemirror_mode": {
    "name": "ipython",
    "version": 3
   },
   "file_extension": ".py",
   "mimetype": "text/x-python",
   "name": "python",
   "nbconvert_exporter": "python",
   "pygments_lexer": "ipython3",
   "version": "3.9.7"
  },
  "vscode": {
   "interpreter": {
    "hash": "b27a517b1cf8e782bd444da511ca67c56a596f69950309a426ef78fd846efd6a"
   }
  }
 },
 "nbformat": 4,
 "nbformat_minor": 5
}
