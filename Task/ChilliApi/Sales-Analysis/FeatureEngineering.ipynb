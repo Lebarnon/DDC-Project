{
 "cells": [
  {
   "cell_type": "code",
   "execution_count": null,
   "id": "b83c0b21",
   "metadata": {},
   "outputs": [],
   "source": [
    "# Basic Libraries\n",
    "import numpy as np\n",
    "import pandas as pd\n",
    "import seaborn as sb\n",
    "import matplotlib.pyplot as plt # we only need pyplot\n",
    "sb.set() # set the default Seaborn style for graphics"
   ]
  },
  {
   "cell_type": "code",
   "execution_count": null,
   "id": "b7fb8515",
   "metadata": {},
   "outputs": [],
   "source": [
    "# To print full list\n",
    "pd.set_option('display.max_rows', None)\n",
    "pd.set_option('display.max_columns', None)\n",
    "pd.set_option('display.width', None)\n",
    "pd.set_option('display.max_colwidth', None)"
   ]
  },
  {
   "cell_type": "code",
   "execution_count": null,
   "id": "6fb4e0b1",
   "metadata": {},
   "outputs": [],
   "source": [
    "data = pd.read_csv('data/chillipadi_cleandata.csv')\n",
    "data.sample(5)"
   ]
  },
  {
   "cell_type": "code",
   "execution_count": null,
   "id": "fd6a340f",
   "metadata": {},
   "outputs": [],
   "source": [
    "# Reduce numner of categories in Status\n",
    "\n",
    "data.loc[data['Status'] == 'Done', 'Status'] = 'Completed'\n",
    "data.loc[data['Status'] == 'DoubleChecked', 'Status'] = 'Completed'\n",
    "data.loc[data['Status'] == 'Cancel', 'Status'] = 'Cancelled'"
   ]
  },
  {
   "cell_type": "code",
   "execution_count": null,
   "id": "6106ccf5",
   "metadata": {},
   "outputs": [],
   "source": [
    "data['Status'].unique()"
   ]
  },
  {
   "cell_type": "code",
   "execution_count": null,
   "id": "23616c19",
   "metadata": {},
   "outputs": [],
   "source": [
    "# covert some vars to categorical\n",
    "categoricalVars = ['Status', 'MenuSection']\n",
    "for var in categoricalVars:\n",
    "    data[var] = data[var].astype('category')"
   ]
  },
  {
   "cell_type": "markdown",
   "id": "90a4ee9e",
   "metadata": {},
   "source": [
    "# Feature Engineering"
   ]
  },
  {
   "cell_type": "markdown",
   "id": "8097c42f",
   "metadata": {},
   "source": [
    "### GrossSales"
   ]
  },
  {
   "cell_type": "code",
   "execution_count": null,
   "id": "c796e427",
   "metadata": {},
   "outputs": [],
   "source": [
    "data['GrossSales'] = data['MenuRate']*data['MenuPax']"
   ]
  },
  {
   "cell_type": "markdown",
   "id": "389bbf02",
   "metadata": {},
   "source": [
    "### Age"
   ]
  },
  {
   "cell_type": "code",
   "execution_count": null,
   "id": "7c571390",
   "metadata": {},
   "outputs": [],
   "source": [
    "from datetime import datetime, date\n",
    "\n",
    "def age(born):\n",
    "    born = datetime.strptime(born, \"%Y-%m-%d\").date()\n",
    "    today = date.today()\n",
    "    return today.year - born.year - ((today.month, today.day) < (born.month, born.day))\n",
    "\n",
    "  \n",
    "data['Age'] = data['DateOfBirth(Date)'].apply(age)\n",
    "data = data.drop(columns=['DateOfBirth(Date)'])"
   ]
  },
  {
   "cell_type": "markdown",
   "id": "3fac2edd",
   "metadata": {},
   "source": [
    "### OrderDate & OrderTime"
   ]
  },
  {
   "cell_type": "code",
   "execution_count": null,
   "id": "54fa99e8",
   "metadata": {},
   "outputs": [],
   "source": [
    "#converts cols related to datetime to 2 distinct cols of date and time\n",
    "def parseDateTime(col, colPrimaryName,data):\n",
    "    temp = pd.to_datetime(data[col], format='%Y-%m-%d %H:%M:%S', errors='coerce')\n",
    "    data['{}DateTime'.format(colPrimaryName)] = temp.dt.strftime('%Y-%m-%d %H:%M:%S')\n",
    "    data['{}Date'.format(colPrimaryName)] = temp.dt.strftime('%Y-%m-%d')\n",
    "    data['{}Time'.format(colPrimaryName)] = temp.dt.strftime('%H:%M:%S')"
   ]
  },
  {
   "cell_type": "code",
   "execution_count": null,
   "id": "8f161409",
   "metadata": {
    "scrolled": true
   },
   "outputs": [],
   "source": [
    "parseDateTime('OrderDate', 'Order', data)"
   ]
  },
  {
   "cell_type": "markdown",
   "id": "6cb987f1",
   "metadata": {},
   "source": [
    "### FunctionDate & FunctionTime"
   ]
  },
  {
   "cell_type": "code",
   "execution_count": null,
   "id": "a146a828",
   "metadata": {},
   "outputs": [],
   "source": [
    "parseDateTime('FunctionDate', 'Function', data)"
   ]
  },
  {
   "cell_type": "markdown",
   "id": "4482a7f4",
   "metadata": {},
   "source": [
    "### ModificationDate & ModificationTime"
   ]
  },
  {
   "cell_type": "code",
   "execution_count": null,
   "id": "ebeafe97",
   "metadata": {},
   "outputs": [],
   "source": [
    "parseDateTime('ModificationDate', 'Modification', data)"
   ]
  },
  {
   "cell_type": "markdown",
   "id": "154658fc",
   "metadata": {},
   "source": [
    "### PackedDate & PackedTime"
   ]
  },
  {
   "cell_type": "code",
   "execution_count": null,
   "id": "ed51acfe",
   "metadata": {},
   "outputs": [],
   "source": [
    "parseDateTime('PackedTime', 'Packed', data)"
   ]
  },
  {
   "cell_type": "code",
   "execution_count": null,
   "id": "d6fcba1d",
   "metadata": {
    "scrolled": true
   },
   "outputs": [],
   "source": [
    "data.head()"
   ]
  },
  {
   "cell_type": "code",
   "execution_count": null,
   "id": "2ce2a9d2",
   "metadata": {},
   "outputs": [],
   "source": []
  },
  {
   "cell_type": "markdown",
   "id": "4d72d691",
   "metadata": {},
   "source": [
    "### DaysInAdvance\n",
    "number of days the customer ordered before the actual function"
   ]
  },
  {
   "cell_type": "code",
   "execution_count": null,
   "id": "d75aead5",
   "metadata": {},
   "outputs": [],
   "source": [
    "data['FunctionDateTime'] = pd.to_datetime(data['FunctionDateTime'])\n",
    "data['OrderDateTime'] = pd.to_datetime(data['OrderDateTime'])\n",
    "data['DaysInAdvance'] = (data['FunctionDateTime'] - data['OrderDateTime']).dt.days\n",
    "data.head(10)"
   ]
  },
  {
   "cell_type": "code",
   "execution_count": null,
   "id": "622f858f",
   "metadata": {},
   "outputs": [],
   "source": []
  },
  {
   "cell_type": "markdown",
   "id": "15a46ea3",
   "metadata": {},
   "source": [
    "### Menu Categories"
   ]
  },
  {
   "cell_type": "code",
   "execution_count": null,
   "id": "43e5d5c9",
   "metadata": {},
   "outputs": [],
   "source": [
    "menuCatData = pd.read_excel('MenuCategories2.xlsx', sheet_name='MenuCategories')\n",
    "menuCatData.head()"
   ]
  },
  {
   "cell_type": "code",
   "execution_count": null,
   "id": "73319cb5",
   "metadata": {},
   "outputs": [],
   "source": [
    "flatMenuCatData = pd.DataFrame(columns=['MenuName', 'MenuCategory'])"
   ]
  },
  {
   "cell_type": "code",
   "execution_count": null,
   "id": "97f740b0",
   "metadata": {},
   "outputs": [],
   "source": [
    "def flattenMenuCat(df):\n",
    "    result = pd.DataFrame(columns=['MenuName', 'MenuCategory'])\n",
    "    cols = df.columns\n",
    "    for col in cols:\n",
    "        temp = pd.DataFrame(columns=['MenuName', 'MenuCategory'])\n",
    "        temp['MenuName'] = df[col]\n",
    "        temp = temp[temp['MenuName'].notna()]\n",
    "        temp['MenuCategory'] = col\n",
    "        result = pd.concat([result,temp], ignore_index=True)\n",
    "    result.drop_duplicates(subset=['MenuName'])\n",
    "    return result"
   ]
  },
  {
   "cell_type": "code",
   "execution_count": null,
   "id": "ddea1827",
   "metadata": {},
   "outputs": [],
   "source": [
    "flatMenuCatData = flattenMenuCat(menuCatData)\n",
    "flatMenuCatData.sample(5)"
   ]
  },
  {
   "cell_type": "code",
   "execution_count": null,
   "id": "19c73111",
   "metadata": {},
   "outputs": [],
   "source": [
    "mergedData = pd.merge(data, flatMenuCatData, on='MenuName', how='left')\n",
    "mergedData.info()"
   ]
  },
  {
   "cell_type": "code",
   "execution_count": null,
   "id": "34b0dba9",
   "metadata": {},
   "outputs": [],
   "source": [
    "mergedData[mergedData['MenuCategory'].notna()].head()"
   ]
  },
  {
   "cell_type": "code",
   "execution_count": null,
   "id": "6514abaa",
   "metadata": {},
   "outputs": [],
   "source": [
    "from openpyxl import load_workbook\n",
    "\n",
    "unassigned = pd.DataFrame(mergedData[mergedData['MenuCategory'].isna()]['MenuName'].unique(), columns=['MenuName'])\n",
    "\n",
    "filename = 'MenuCategories.xlsx'\n",
    "book = load_workbook(filename)\n",
    "writer = pd.ExcelWriter(filename, engine='openpyxl') \n",
    "writer.book = book\n",
    "\n",
    "writer.sheets = dict((ws.title, ws) for ws in book.worksheets)\n",
    "\n",
    "unassigned.to_excel(writer, \"Unassigned\", index = False)\n",
    "\n",
    "writer.save()"
   ]
  },
  {
   "cell_type": "code",
   "execution_count": null,
   "id": "460b0618",
   "metadata": {},
   "outputs": [],
   "source": [
    "mergedData['MenuCategory'] = mergedData['MenuCategory'].fillna('Others')\n",
    "mergedData.sample(5)"
   ]
  },
  {
   "cell_type": "code",
   "execution_count": null,
   "id": "d2c6bf0a",
   "metadata": {},
   "outputs": [],
   "source": [
    "mergedData.to_csv('data/chillipadi_engineeredData.csv', index=False)"
   ]
  },
  {
   "cell_type": "code",
   "execution_count": null,
   "id": "efd07eec",
   "metadata": {},
   "outputs": [],
   "source": [
    "test = pd.DataFrame(mergedData)\n",
    "moreThan1000 = test[test['MenuPax'] >= 1000]"
   ]
  },
  {
   "cell_type": "code",
   "execution_count": null,
   "id": "3de195be",
   "metadata": {},
   "outputs": [],
   "source": [
    "import re\n",
    "\n",
    "buffetOnly = moreThan1000[(moreThan1000['MenuName'].str.contains('buffet', flags=re.IGNORECASE)) | (moreThan1000['MenuCategory'] == \"Buffet / Wedding\")]\n",
    "buffetOnly.head()"
   ]
  },
  {
   "cell_type": "code",
   "execution_count": null,
   "id": "cbc01d53",
   "metadata": {},
   "outputs": [],
   "source": [
    "buffetOnly.to_csv('data/morethan1000pax.csv', index=False)"
   ]
  },
  {
   "cell_type": "code",
   "execution_count": null,
   "id": "ce1b440a",
   "metadata": {},
   "outputs": [],
   "source": []
  }
 ],
 "metadata": {
  "kernelspec": {
   "display_name": "Python 3 (ipykernel)",
   "language": "python",
   "name": "python3"
  },
  "language_info": {
   "codemirror_mode": {
    "name": "ipython",
    "version": 3
   },
   "file_extension": ".py",
   "mimetype": "text/x-python",
   "name": "python",
   "nbconvert_exporter": "python",
   "pygments_lexer": "ipython3",
   "version": "3.9.7"
  }
 },
 "nbformat": 4,
 "nbformat_minor": 5
}
