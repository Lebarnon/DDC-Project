{
 "cells": [
  {
   "cell_type": "code",
   "execution_count": null,
   "id": "742a4d76",
   "metadata": {},
   "outputs": [],
   "source": [
    "# Basic Libraries\n",
    "import numpy as np\n",
    "import pandas as pd\n",
    "import seaborn as sb\n",
    "import matplotlib.pyplot as plt # we only need pyplot\n",
    "sb.set() # set the default Seaborn style for graphics"
   ]
  },
  {
   "cell_type": "code",
   "execution_count": null,
   "id": "f1db3a61",
   "metadata": {},
   "outputs": [],
   "source": [
    "# To print full list\n",
    "pd.set_option('display.max_rows', None)\n",
    "pd.set_option('display.max_columns', None)\n",
    "pd.set_option('display.width', None)\n",
    "pd.set_option('display.max_colwidth', None)"
   ]
  },
  {
   "cell_type": "code",
   "execution_count": null,
   "id": "636c6257",
   "metadata": {},
   "outputs": [],
   "source": [
    "data = pd.read_csv('./chilliapi_data.csv')\n",
    "\n",
    "data.head()"
   ]
  },
  {
   "cell_type": "markdown",
   "id": "5d895ea2",
   "metadata": {},
   "source": []
  },
  {
   "cell_type": "code",
   "execution_count": null,
   "id": "8d78de7f",
   "metadata": {},
   "outputs": [],
   "source": [
    "data.info()"
   ]
  },
  {
   "cell_type": "code",
   "execution_count": null,
   "id": "9f3d2f4f",
   "metadata": {},
   "outputs": [],
   "source": [
    "data.describe()"
   ]
  },
  {
   "cell_type": "markdown",
   "id": "5d30cd6f",
   "metadata": {},
   "source": [
    "# Exploring all data"
   ]
  },
  {
   "cell_type": "markdown",
   "id": "da539d0d",
   "metadata": {},
   "source": [
    "# Convert DOB to age"
   ]
  },
  {
   "cell_type": "code",
   "execution_count": null,
   "id": "2e320451",
   "metadata": {},
   "outputs": [],
   "source": [
    "from datetime import datetime, date\n",
    "\n",
    "data['DateOfBirth'] = pd.to_datetime(data['DateOfBirth'], format='%d/%m/%Y %I:%M:%S %p')\n",
    "\n",
    "data['DateOfBirth(Date)'] = data['DateOfBirth'].dt.strftime('%d/%m/%Y')\n",
    "data['DateOfBirth(Date)'] = data['DateOfBirth(Date)'].replace(np.nan, date.today().strftime(\"%d/%m/%Y\")).astype(str)\n",
    "\n",
    "def age(born):\n",
    "    born = datetime.strptime(born, \"%d/%m/%Y\").date()\n",
    "    today = date.today()\n",
    "    return today.year - born.year - ((today.month, today.day) < (born.month, born.day))\n",
    "\n",
    "  \n",
    "data['Age'] = data['DateOfBirth(Date)'].apply(age)\n",
    "\n",
    "\n",
    "# ageData contains data whose age can be determined\n",
    "ageData = pd.DataFrame(data[data['Age'] >0])\n",
    "ageData['Age'].describe()\n",
    "# f, axes = plt.subplots(1, 2, figsize=(18, 4))\n",
    "# sb.boxplot(data = data['Age'], orient = \"h\", ax = axes[0])\n",
    "# sb.histplot(data = data['Age'], ax = axes[1])"
   ]
  },
  {
   "cell_type": "markdown",
   "id": "d489d962",
   "metadata": {},
   "source": [
    "# Isolated Data to analyse\n",
    "Base Value ($), Status, Menu Name, FunctionDate"
   ]
  },
  {
   "cell_type": "code",
   "execution_count": null,
   "id": "e8af219a",
   "metadata": {
    "scrolled": true
   },
   "outputs": [],
   "source": [
    "cols = ['Base Value ($)', 'Status', 'Menu Name', 'FunctionDate']\n",
    "miniData = data[cols]\n",
    "miniData.head()"
   ]
  },
  {
   "cell_type": "code",
   "execution_count": null,
   "id": "5d8867bd",
   "metadata": {},
   "outputs": [],
   "source": [
    "miniData['FunctionDate'] = pd.to_datetime(miniData['FunctionDate'], format='%d/%m/%Y %I:%M:%S %p')\n",
    "\n",
    "miniData['Date'] = miniData['FunctionDate'].dt.strftime('%d/%m/%Y')\n",
    "miniData['Time'] = miniData['FunctionDate'].dt.strftime('%I:%M:%S %p')"
   ]
  },
  {
   "cell_type": "code",
   "execution_count": null,
   "id": "b671714f",
   "metadata": {},
   "outputs": [],
   "source": [
    "miniData.head()"
   ]
  },
  {
   "cell_type": "code",
   "execution_count": null,
   "id": "3a27b265",
   "metadata": {},
   "outputs": [],
   "source": []
  },
  {
   "cell_type": "markdown",
   "id": "d000e4d6",
   "metadata": {},
   "source": [
    "# Removing cols with major null vals"
   ]
  },
  {
   "cell_type": "code",
   "execution_count": null,
   "id": "25449c3d",
   "metadata": {},
   "outputs": [],
   "source": [
    "def naValsInPercentage(data):\n",
    "    percent_missing = data.isnull().sum() * 100 / len(data)\n",
    "    return pd.DataFrame({'column_name': data.columns,\n",
    "                         'percent_missing': percent_missing})\n",
    "missingVals = naValsInPercentage(data)\n",
    "missingVals"
   ]
  },
  {
   "cell_type": "code",
   "execution_count": null,
   "id": "c8804fa9",
   "metadata": {},
   "outputs": [],
   "source": [
    "# remove columns with more than 30% missing values\n",
    "colsToDrop = missingVals[missingVals['percent_missing']>30]\n",
    "colsToDrop"
   ]
  },
  {
   "cell_type": "markdown",
   "id": "ea42516b",
   "metadata": {},
   "source": [
    "### Some columns are still important to analyse\n",
    "DateOfBirth, AddOnsPrice"
   ]
  },
  {
   "cell_type": "code",
   "execution_count": null,
   "id": "6fb96d7a",
   "metadata": {},
   "outputs": [],
   "source": [
    "finalColsToDrop = colsToDrop.drop(['DateOfBirth', 'AddOnsPrice'])"
   ]
  },
  {
   "cell_type": "code",
   "execution_count": null,
   "id": "d05b1c6f",
   "metadata": {},
   "outputs": [],
   "source": [
    "# CD = Cleaned Data\n",
    "cdPart1 = data.drop(columns = finalColsToDrop['column_name'])\n",
    "\n",
    "## Drop Rows without main identifier\n",
    "# We are using Menu names as the main identifier\n",
    "rowsToDrop = cdPart1[cdPart1[\"Menu Name\"].isna()]\n",
    "cdPart1 = cdPart1.drop(index = rowsToDrop.index)\n",
    "\n",
    "cdPart1[1000:1010]"
   ]
  },
  {
   "cell_type": "markdown",
   "id": "ace27674",
   "metadata": {},
   "source": [
    "### Theres still insignificant cols"
   ]
  },
  {
   "cell_type": "code",
   "execution_count": null,
   "id": "0941c1e3",
   "metadata": {},
   "outputs": [],
   "source": [
    "# suspects\n",
    "insigCols = ['Block', 'Block (Customer)', 'Building', 'Co Last Name', 'CustomerId (Customer)', 'CustomerIdCopy', 'Delivery Note', 'Driver Name', 'Fax', 'tel', 'Mobile' 'First Name', 'Id', 'Invoice Id', 'Job Number', 'Last Name', 'OrderSource', 'Delivery Rate Internal', 'Delivery Time', 'Delivery Rate', 'Staff No', 'Staff Price', 'Packed Time']\n",
    "cdPart1[insigCols].describe()"
   ]
  },
  {
   "cell_type": "code",
   "execution_count": null,
   "id": "25e7143e",
   "metadata": {},
   "outputs": [],
   "source": [
    "cdPart1 = cdPart1.drop(columns = insigCols)\n",
    "cdPart1.head()"
   ]
  },
  {
   "cell_type": "markdown",
   "id": "f689061c",
   "metadata": {},
   "source": [
    "## Fill NA"
   ]
  },
  {
   "cell_type": "code",
   "execution_count": null,
   "id": "4fe0fd9e",
   "metadata": {},
   "outputs": [],
   "source": [
    "reducedMissingVals = naValsInPercentage(cdPart1)\n",
    "reducedMissingVals"
   ]
  },
  {
   "cell_type": "code",
   "execution_count": null,
   "id": "3bae3145",
   "metadata": {},
   "outputs": [],
   "source": [
    "cdPart2 = pd.DataFrame(cdPart1)"
   ]
  },
  {
   "cell_type": "code",
   "execution_count": null,
   "id": "774e5449",
   "metadata": {},
   "outputs": [],
   "source": [
    "# Converts values to boolean\n",
    "def convertToBool(data, colsToCovert):\n",
    "    temp = pd.DataFrame(data)\n",
    "    for col in colsToCovert:\n",
    "        temp[col] = data[col].notnull().astype('bool')\n",
    "    return temp\n",
    "\n",
    "colsToBool = ['Contact Number', 'Contact Person', 'Exported', 'Mobile']\n",
    "cdPart2 = convertToBool(cdPart2, ['Contact Number'])\n",
    "cdPart2['Contact Number'].head()"
   ]
  }
 ],
 "metadata": {
  "kernelspec": {
   "display_name": "Python 3 (ipykernel)",
   "language": "python",
   "name": "python3"
  },
  "language_info": {
   "codemirror_mode": {
    "name": "ipython",
    "version": 3
   },
   "file_extension": ".py",
   "mimetype": "text/x-python",
   "name": "python",
   "nbconvert_exporter": "python",
   "pygments_lexer": "ipython3",
   "version": "3.9.7"
  }
 },
 "nbformat": 4,
 "nbformat_minor": 5
}
